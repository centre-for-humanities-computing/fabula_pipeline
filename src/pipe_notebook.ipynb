{
 "cells": [
  {
   "cell_type": "code",
   "execution_count": 2,
   "metadata": {},
   "outputs": [
    {
     "name": "stdout",
     "output_type": "stream",
     "text": [
      "Defaulting to user installation because normal site-packages is not writeable\n",
      "Requirement already satisfied: afinn>=0.1 in /Users/au643202/Library/Python/3.9/lib/python/site-packages (from -r ../requirements.txt (line 1)) (0.1)\n",
      "Requirement already satisfied: dframcy>=0.1.6 in /Users/au643202/Library/Python/3.9/lib/python/site-packages (from -r ../requirements.txt (line 2)) (0.1.6)\n",
      "Requirement already satisfied: lexical_diversity>=0.1.1 in /Users/au643202/Library/Python/3.9/lib/python/site-packages (from -r ../requirements.txt (line 3)) (0.1.1)\n",
      "Requirement already satisfied: neurokit2>=0.2.5 in /Users/au643202/Library/Python/3.9/lib/python/site-packages (from -r ../requirements.txt (line 4)) (0.2.5)\n",
      "Requirement already satisfied: nltk>=3.8.1 in /Users/au643202/Library/Python/3.9/lib/python/site-packages (from -r ../requirements.txt (line 5)) (3.8.1)\n",
      "Requirement already satisfied: numpy>=1.25.2 in /Users/au643202/Library/Python/3.9/lib/python/site-packages (from -r ../requirements.txt (line 6)) (1.25.2)\n",
      "Requirement already satisfied: openpyxl>=3.1.2 in /Users/au643202/Library/Python/3.9/lib/python/site-packages (from -r ../requirements.txt (line 7)) (3.1.2)\n",
      "Requirement already satisfied: requests>=2.31.0 in /Users/au643202/Library/Python/3.9/lib/python/site-packages (from -r ../requirements.txt (line 8)) (2.31.0)\n",
      "Requirement already satisfied: rpy2>=3.5.14 in /Users/au643202/Library/Python/3.9/lib/python/site-packages (from -r ../requirements.txt (line 9)) (3.5.14)\n",
      "Requirement already satisfied: spacy>=3.6.1 in /Users/au643202/Library/Python/3.9/lib/python/site-packages (from -r ../requirements.txt (line 10)) (3.6.1)\n",
      "Requirement already satisfied: textstat>=0.7.3 in /Users/au643202/Library/Python/3.9/lib/python/site-packages (from -r ../requirements.txt (line 11)) (0.7.3)\n",
      "Requirement already satisfied: click in /Users/au643202/Library/Python/3.9/lib/python/site-packages (from dframcy>=0.1.6->-r ../requirements.txt (line 2)) (8.1.6)\n",
      "Requirement already satisfied: pandas in /Users/au643202/Library/Python/3.9/lib/python/site-packages (from dframcy>=0.1.6->-r ../requirements.txt (line 2)) (2.0.3)\n",
      "Requirement already satisfied: pytest in /Users/au643202/Library/Python/3.9/lib/python/site-packages (from dframcy>=0.1.6->-r ../requirements.txt (line 2)) (7.4.2)\n",
      "Requirement already satisfied: pytest-cov in /Users/au643202/Library/Python/3.9/lib/python/site-packages (from dframcy>=0.1.6->-r ../requirements.txt (line 2)) (4.1.0)\n",
      "Requirement already satisfied: tox in /Users/au643202/Library/Python/3.9/lib/python/site-packages (from dframcy>=0.1.6->-r ../requirements.txt (line 2)) (3.28.0)\n",
      "Requirement already satisfied: tox-travis in /Users/au643202/Library/Python/3.9/lib/python/site-packages (from dframcy>=0.1.6->-r ../requirements.txt (line 2)) (0.13)\n",
      "Requirement already satisfied: wasabi in /Users/au643202/Library/Python/3.9/lib/python/site-packages (from dframcy>=0.1.6->-r ../requirements.txt (line 2)) (1.1.2)\n",
      "Requirement already satisfied: xlrd in /Users/au643202/Library/Python/3.9/lib/python/site-packages (from dframcy>=0.1.6->-r ../requirements.txt (line 2)) (2.0.1)\n",
      "Requirement already satisfied: scipy in /Users/au643202/Library/Python/3.9/lib/python/site-packages (from neurokit2>=0.2.5->-r ../requirements.txt (line 4)) (1.11.1)\n",
      "Requirement already satisfied: scikit-learn>=1.0.0 in /Users/au643202/Library/Python/3.9/lib/python/site-packages (from neurokit2>=0.2.5->-r ../requirements.txt (line 4)) (1.3.0)\n",
      "Requirement already satisfied: matplotlib in /Users/au643202/Library/Python/3.9/lib/python/site-packages (from neurokit2>=0.2.5->-r ../requirements.txt (line 4)) (3.7.2)\n",
      "Requirement already satisfied: joblib in /Users/au643202/Library/Python/3.9/lib/python/site-packages (from nltk>=3.8.1->-r ../requirements.txt (line 5)) (1.3.2)\n",
      "Requirement already satisfied: regex>=2021.8.3 in /Users/au643202/Library/Python/3.9/lib/python/site-packages (from nltk>=3.8.1->-r ../requirements.txt (line 5)) (2023.8.8)\n",
      "Requirement already satisfied: tqdm in /Users/au643202/Library/Python/3.9/lib/python/site-packages (from nltk>=3.8.1->-r ../requirements.txt (line 5)) (4.66.1)\n",
      "Requirement already satisfied: et-xmlfile in /Users/au643202/Library/Python/3.9/lib/python/site-packages (from openpyxl>=3.1.2->-r ../requirements.txt (line 7)) (1.1.0)\n",
      "Requirement already satisfied: charset-normalizer<4,>=2 in /Users/au643202/Library/Python/3.9/lib/python/site-packages (from requests>=2.31.0->-r ../requirements.txt (line 8)) (3.2.0)\n",
      "Requirement already satisfied: idna<4,>=2.5 in /Users/au643202/Library/Python/3.9/lib/python/site-packages (from requests>=2.31.0->-r ../requirements.txt (line 8)) (3.4)\n",
      "Requirement already satisfied: urllib3<3,>=1.21.1 in /Users/au643202/Library/Python/3.9/lib/python/site-packages (from requests>=2.31.0->-r ../requirements.txt (line 8)) (1.26.16)\n",
      "Requirement already satisfied: certifi>=2017.4.17 in /Users/au643202/Library/Python/3.9/lib/python/site-packages (from requests>=2.31.0->-r ../requirements.txt (line 8)) (2023.7.22)\n",
      "Requirement already satisfied: cffi>=1.10.0 in /Users/au643202/Library/Python/3.9/lib/python/site-packages (from rpy2>=3.5.14->-r ../requirements.txt (line 9)) (1.16.0)\n",
      "Requirement already satisfied: jinja2 in /Users/au643202/Library/Python/3.9/lib/python/site-packages (from rpy2>=3.5.14->-r ../requirements.txt (line 9)) (3.1.2)\n",
      "Requirement already satisfied: tzlocal in /Users/au643202/Library/Python/3.9/lib/python/site-packages (from rpy2>=3.5.14->-r ../requirements.txt (line 9)) (5.2)\n",
      "Requirement already satisfied: spacy-legacy<3.1.0,>=3.0.11 in /Users/au643202/Library/Python/3.9/lib/python/site-packages (from spacy>=3.6.1->-r ../requirements.txt (line 10)) (3.0.12)\n",
      "Requirement already satisfied: spacy-loggers<2.0.0,>=1.0.0 in /Users/au643202/Library/Python/3.9/lib/python/site-packages (from spacy>=3.6.1->-r ../requirements.txt (line 10)) (1.0.5)\n",
      "Requirement already satisfied: murmurhash<1.1.0,>=0.28.0 in /Users/au643202/Library/Python/3.9/lib/python/site-packages (from spacy>=3.6.1->-r ../requirements.txt (line 10)) (1.0.10)\n",
      "Requirement already satisfied: cymem<2.1.0,>=2.0.2 in /Users/au643202/Library/Python/3.9/lib/python/site-packages (from spacy>=3.6.1->-r ../requirements.txt (line 10)) (2.0.8)\n",
      "Requirement already satisfied: preshed<3.1.0,>=3.0.2 in /Users/au643202/Library/Python/3.9/lib/python/site-packages (from spacy>=3.6.1->-r ../requirements.txt (line 10)) (3.0.9)\n",
      "Requirement already satisfied: thinc<8.2.0,>=8.1.8 in /Users/au643202/Library/Python/3.9/lib/python/site-packages (from spacy>=3.6.1->-r ../requirements.txt (line 10)) (8.1.12)\n",
      "Requirement already satisfied: srsly<3.0.0,>=2.4.3 in /Users/au643202/Library/Python/3.9/lib/python/site-packages (from spacy>=3.6.1->-r ../requirements.txt (line 10)) (2.4.7)\n",
      "Requirement already satisfied: catalogue<2.1.0,>=2.0.6 in /Users/au643202/Library/Python/3.9/lib/python/site-packages (from spacy>=3.6.1->-r ../requirements.txt (line 10)) (2.0.9)\n",
      "Requirement already satisfied: typer<0.10.0,>=0.3.0 in /Users/au643202/Library/Python/3.9/lib/python/site-packages (from spacy>=3.6.1->-r ../requirements.txt (line 10)) (0.9.0)\n",
      "Requirement already satisfied: pathy>=0.10.0 in /Users/au643202/Library/Python/3.9/lib/python/site-packages (from spacy>=3.6.1->-r ../requirements.txt (line 10)) (0.10.2)\n",
      "Requirement already satisfied: smart-open<7.0.0,>=5.2.1 in /Users/au643202/Library/Python/3.9/lib/python/site-packages (from spacy>=3.6.1->-r ../requirements.txt (line 10)) (6.4.0)\n",
      "Requirement already satisfied: pydantic!=1.8,!=1.8.1,<3.0.0,>=1.7.4 in /Users/au643202/Library/Python/3.9/lib/python/site-packages (from spacy>=3.6.1->-r ../requirements.txt (line 10)) (2.2.1)\n",
      "Requirement already satisfied: setuptools in /Library/Developer/CommandLineTools/Library/Frameworks/Python3.framework/Versions/3.9/lib/python3.9/site-packages (from spacy>=3.6.1->-r ../requirements.txt (line 10)) (58.0.4)\n",
      "Requirement already satisfied: packaging>=20.0 in /Users/au643202/Library/Python/3.9/lib/python/site-packages (from spacy>=3.6.1->-r ../requirements.txt (line 10)) (23.1)\n",
      "Requirement already satisfied: langcodes<4.0.0,>=3.2.0 in /Users/au643202/Library/Python/3.9/lib/python/site-packages (from spacy>=3.6.1->-r ../requirements.txt (line 10)) (3.3.0)\n",
      "Requirement already satisfied: pyphen in /Users/au643202/Library/Python/3.9/lib/python/site-packages (from textstat>=0.7.3->-r ../requirements.txt (line 11)) (0.14.0)\n",
      "Requirement already satisfied: pycparser in /Users/au643202/Library/Python/3.9/lib/python/site-packages (from cffi>=1.10.0->rpy2>=3.5.14->-r ../requirements.txt (line 9)) (2.21)\n",
      "Requirement already satisfied: annotated-types>=0.4.0 in /Users/au643202/Library/Python/3.9/lib/python/site-packages (from pydantic!=1.8,!=1.8.1,<3.0.0,>=1.7.4->spacy>=3.6.1->-r ../requirements.txt (line 10)) (0.5.0)\n",
      "Requirement already satisfied: pydantic-core==2.6.1 in /Users/au643202/Library/Python/3.9/lib/python/site-packages (from pydantic!=1.8,!=1.8.1,<3.0.0,>=1.7.4->spacy>=3.6.1->-r ../requirements.txt (line 10)) (2.6.1)\n",
      "Requirement already satisfied: typing-extensions>=4.6.1 in /Users/au643202/Library/Python/3.9/lib/python/site-packages (from pydantic!=1.8,!=1.8.1,<3.0.0,>=1.7.4->spacy>=3.6.1->-r ../requirements.txt (line 10)) (4.8.0)\n",
      "Requirement already satisfied: threadpoolctl>=2.0.0 in /Users/au643202/Library/Python/3.9/lib/python/site-packages (from scikit-learn>=1.0.0->neurokit2>=0.2.5->-r ../requirements.txt (line 4)) (3.2.0)\n",
      "Requirement already satisfied: blis<0.8.0,>=0.7.8 in /Users/au643202/Library/Python/3.9/lib/python/site-packages (from thinc<8.2.0,>=8.1.8->spacy>=3.6.1->-r ../requirements.txt (line 10)) (0.7.11)\n",
      "Requirement already satisfied: confection<1.0.0,>=0.0.1 in /Users/au643202/Library/Python/3.9/lib/python/site-packages (from thinc<8.2.0,>=8.1.8->spacy>=3.6.1->-r ../requirements.txt (line 10)) (0.1.1)\n",
      "Requirement already satisfied: MarkupSafe>=2.0 in /Users/au643202/Library/Python/3.9/lib/python/site-packages (from jinja2->rpy2>=3.5.14->-r ../requirements.txt (line 9)) (2.1.3)\n",
      "Requirement already satisfied: contourpy>=1.0.1 in /Users/au643202/Library/Python/3.9/lib/python/site-packages (from matplotlib->neurokit2>=0.2.5->-r ../requirements.txt (line 4)) (1.1.0)\n",
      "Requirement already satisfied: cycler>=0.10 in /Users/au643202/Library/Python/3.9/lib/python/site-packages (from matplotlib->neurokit2>=0.2.5->-r ../requirements.txt (line 4)) (0.11.0)\n",
      "Requirement already satisfied: fonttools>=4.22.0 in /Users/au643202/Library/Python/3.9/lib/python/site-packages (from matplotlib->neurokit2>=0.2.5->-r ../requirements.txt (line 4)) (4.42.1)\n",
      "Requirement already satisfied: kiwisolver>=1.0.1 in /Users/au643202/Library/Python/3.9/lib/python/site-packages (from matplotlib->neurokit2>=0.2.5->-r ../requirements.txt (line 4)) (1.4.4)\n",
      "Requirement already satisfied: pillow>=6.2.0 in /Users/au643202/Library/Python/3.9/lib/python/site-packages (from matplotlib->neurokit2>=0.2.5->-r ../requirements.txt (line 4)) (10.0.0)\n",
      "Requirement already satisfied: pyparsing<3.1,>=2.3.1 in /Users/au643202/Library/Python/3.9/lib/python/site-packages (from matplotlib->neurokit2>=0.2.5->-r ../requirements.txt (line 4)) (3.0.9)\n",
      "Requirement already satisfied: python-dateutil>=2.7 in /Users/au643202/Library/Python/3.9/lib/python/site-packages (from matplotlib->neurokit2>=0.2.5->-r ../requirements.txt (line 4)) (2.8.2)\n",
      "Requirement already satisfied: importlib-resources>=3.2.0 in /Users/au643202/Library/Python/3.9/lib/python/site-packages (from matplotlib->neurokit2>=0.2.5->-r ../requirements.txt (line 4)) (6.0.1)\n",
      "Requirement already satisfied: pytz>=2020.1 in /Users/au643202/Library/Python/3.9/lib/python/site-packages (from pandas->dframcy>=0.1.6->-r ../requirements.txt (line 2)) (2023.3)\n",
      "Requirement already satisfied: tzdata>=2022.1 in /Users/au643202/Library/Python/3.9/lib/python/site-packages (from pandas->dframcy>=0.1.6->-r ../requirements.txt (line 2)) (2023.3)\n",
      "Requirement already satisfied: iniconfig in /Users/au643202/Library/Python/3.9/lib/python/site-packages (from pytest->dframcy>=0.1.6->-r ../requirements.txt (line 2)) (2.0.0)\n",
      "Requirement already satisfied: pluggy<2.0,>=0.12 in /Users/au643202/Library/Python/3.9/lib/python/site-packages (from pytest->dframcy>=0.1.6->-r ../requirements.txt (line 2)) (1.3.0)\n",
      "Requirement already satisfied: exceptiongroup>=1.0.0rc8 in /Users/au643202/Library/Python/3.9/lib/python/site-packages (from pytest->dframcy>=0.1.6->-r ../requirements.txt (line 2)) (1.1.3)\n",
      "Requirement already satisfied: tomli>=1.0.0 in /Users/au643202/Library/Python/3.9/lib/python/site-packages (from pytest->dframcy>=0.1.6->-r ../requirements.txt (line 2)) (2.0.1)\n",
      "Requirement already satisfied: coverage>=5.2.1 in /Users/au643202/Library/Python/3.9/lib/python/site-packages (from coverage[toml]>=5.2.1->pytest-cov->dframcy>=0.1.6->-r ../requirements.txt (line 2)) (7.3.1)\n",
      "Requirement already satisfied: filelock>=3.0.0 in /Users/au643202/Library/Python/3.9/lib/python/site-packages (from tox->dframcy>=0.1.6->-r ../requirements.txt (line 2)) (3.12.2)\n",
      "Requirement already satisfied: py>=1.4.17 in /Users/au643202/Library/Python/3.9/lib/python/site-packages (from tox->dframcy>=0.1.6->-r ../requirements.txt (line 2)) (1.11.0)\n",
      "Requirement already satisfied: six>=1.14.0 in /Library/Developer/CommandLineTools/Library/Frameworks/Python3.framework/Versions/3.9/lib/python3.9/site-packages (from tox->dframcy>=0.1.6->-r ../requirements.txt (line 2)) (1.15.0)\n",
      "Requirement already satisfied: virtualenv!=20.0.0,!=20.0.1,!=20.0.2,!=20.0.3,!=20.0.4,!=20.0.5,!=20.0.6,!=20.0.7,>=16.0.0 in /Users/au643202/Library/Python/3.9/lib/python/site-packages (from tox->dframcy>=0.1.6->-r ../requirements.txt (line 2)) (20.24.5)\n",
      "Requirement already satisfied: zipp>=3.1.0 in /Users/au643202/Library/Python/3.9/lib/python/site-packages (from importlib-resources>=3.2.0->matplotlib->neurokit2>=0.2.5->-r ../requirements.txt (line 4)) (3.16.2)\n",
      "Requirement already satisfied: distlib<1,>=0.3.7 in /Users/au643202/Library/Python/3.9/lib/python/site-packages (from virtualenv!=20.0.0,!=20.0.1,!=20.0.2,!=20.0.3,!=20.0.4,!=20.0.5,!=20.0.6,!=20.0.7,>=16.0.0->tox->dframcy>=0.1.6->-r ../requirements.txt (line 2)) (0.3.7)\n",
      "Requirement already satisfied: platformdirs<4,>=3.9.1 in /Users/au643202/Library/Python/3.9/lib/python/site-packages (from virtualenv!=20.0.0,!=20.0.1,!=20.0.2,!=20.0.3,!=20.0.4,!=20.0.5,!=20.0.6,!=20.0.7,>=16.0.0->tox->dframcy>=0.1.6->-r ../requirements.txt (line 2)) (3.10.0)\n"
     ]
    }
   ],
   "source": [
    "!pip install -r ../requirements.txt"
   ]
  },
  {
   "cell_type": "code",
   "execution_count": 22,
   "metadata": {},
   "outputs": [],
   "source": [
    "import json\n",
    "from pathlib import Path\n",
    "\n",
    "from lexical_diversity import lex_div as ld\n",
    "import neurokit2 as nk\n",
    "from nltk.tokenize import sent_tokenize, word_tokenize\n",
    "import nltk\n",
    "import spacy\n",
    "from tqdm import tqdm\n",
    "\n",
    "from utils import *\n",
    "\n",
    "pd.options.mode.chained_assignment = None"
   ]
  },
  {
   "attachments": {},
   "cell_type": "markdown",
   "metadata": {},
   "source": [
    "### Set-up "
   ]
  },
  {
   "cell_type": "code",
   "execution_count": 16,
   "metadata": {},
   "outputs": [],
   "source": [
    "# CHANGE THESE TO YOUR PREFERENCES\n",
    "in_dir = \"../../test_files/\"\n",
    "out_dir = \"../output\"\n",
    "language = \"english\"\n",
    "sentiment_method = \"vader\""
   ]
  },
  {
   "cell_type": "code",
   "execution_count": 5,
   "metadata": {},
   "outputs": [
    {
     "name": "stdout",
     "output_type": "stream",
     "text": [
      "Defaulting to user installation because normal site-packages is not writeable\n",
      "Collecting en-core-web-sm==3.6.0\n",
      "  Downloading https://github.com/explosion/spacy-models/releases/download/en_core_web_sm-3.6.0/en_core_web_sm-3.6.0-py3-none-any.whl (12.8 MB)\n",
      "\u001b[2K     \u001b[90m━━━━━━━━━━━━━━━━━━━━━━━━━━━━━━━━━━━━━━━━\u001b[0m \u001b[32m12.8/12.8 MB\u001b[0m \u001b[31m32.4 MB/s\u001b[0m eta \u001b[36m0:00:00\u001b[0m00:01\u001b[0m00:01\u001b[0m\n",
      "\u001b[?25hRequirement already satisfied: spacy<3.7.0,>=3.6.0 in /Users/au643202/Library/Python/3.9/lib/python/site-packages (from en-core-web-sm==3.6.0) (3.6.1)\n",
      "Requirement already satisfied: spacy-legacy<3.1.0,>=3.0.11 in /Users/au643202/Library/Python/3.9/lib/python/site-packages (from spacy<3.7.0,>=3.6.0->en-core-web-sm==3.6.0) (3.0.12)\n",
      "Requirement already satisfied: spacy-loggers<2.0.0,>=1.0.0 in /Users/au643202/Library/Python/3.9/lib/python/site-packages (from spacy<3.7.0,>=3.6.0->en-core-web-sm==3.6.0) (1.0.5)\n",
      "Requirement already satisfied: murmurhash<1.1.0,>=0.28.0 in /Users/au643202/Library/Python/3.9/lib/python/site-packages (from spacy<3.7.0,>=3.6.0->en-core-web-sm==3.6.0) (1.0.10)\n",
      "Requirement already satisfied: cymem<2.1.0,>=2.0.2 in /Users/au643202/Library/Python/3.9/lib/python/site-packages (from spacy<3.7.0,>=3.6.0->en-core-web-sm==3.6.0) (2.0.8)\n",
      "Requirement already satisfied: preshed<3.1.0,>=3.0.2 in /Users/au643202/Library/Python/3.9/lib/python/site-packages (from spacy<3.7.0,>=3.6.0->en-core-web-sm==3.6.0) (3.0.9)\n",
      "Requirement already satisfied: thinc<8.2.0,>=8.1.8 in /Users/au643202/Library/Python/3.9/lib/python/site-packages (from spacy<3.7.0,>=3.6.0->en-core-web-sm==3.6.0) (8.1.12)\n",
      "Requirement already satisfied: wasabi<1.2.0,>=0.9.1 in /Users/au643202/Library/Python/3.9/lib/python/site-packages (from spacy<3.7.0,>=3.6.0->en-core-web-sm==3.6.0) (1.1.2)\n",
      "Requirement already satisfied: srsly<3.0.0,>=2.4.3 in /Users/au643202/Library/Python/3.9/lib/python/site-packages (from spacy<3.7.0,>=3.6.0->en-core-web-sm==3.6.0) (2.4.7)\n",
      "Requirement already satisfied: catalogue<2.1.0,>=2.0.6 in /Users/au643202/Library/Python/3.9/lib/python/site-packages (from spacy<3.7.0,>=3.6.0->en-core-web-sm==3.6.0) (2.0.9)\n",
      "Requirement already satisfied: typer<0.10.0,>=0.3.0 in /Users/au643202/Library/Python/3.9/lib/python/site-packages (from spacy<3.7.0,>=3.6.0->en-core-web-sm==3.6.0) (0.9.0)\n",
      "Requirement already satisfied: pathy>=0.10.0 in /Users/au643202/Library/Python/3.9/lib/python/site-packages (from spacy<3.7.0,>=3.6.0->en-core-web-sm==3.6.0) (0.10.2)\n",
      "Requirement already satisfied: smart-open<7.0.0,>=5.2.1 in /Users/au643202/Library/Python/3.9/lib/python/site-packages (from spacy<3.7.0,>=3.6.0->en-core-web-sm==3.6.0) (6.4.0)\n",
      "Requirement already satisfied: tqdm<5.0.0,>=4.38.0 in /Users/au643202/Library/Python/3.9/lib/python/site-packages (from spacy<3.7.0,>=3.6.0->en-core-web-sm==3.6.0) (4.66.1)\n",
      "Requirement already satisfied: numpy>=1.15.0 in /Users/au643202/Library/Python/3.9/lib/python/site-packages (from spacy<3.7.0,>=3.6.0->en-core-web-sm==3.6.0) (1.25.2)\n",
      "Requirement already satisfied: requests<3.0.0,>=2.13.0 in /Users/au643202/Library/Python/3.9/lib/python/site-packages (from spacy<3.7.0,>=3.6.0->en-core-web-sm==3.6.0) (2.31.0)\n",
      "Requirement already satisfied: pydantic!=1.8,!=1.8.1,<3.0.0,>=1.7.4 in /Users/au643202/Library/Python/3.9/lib/python/site-packages (from spacy<3.7.0,>=3.6.0->en-core-web-sm==3.6.0) (2.2.1)\n",
      "Requirement already satisfied: jinja2 in /Users/au643202/Library/Python/3.9/lib/python/site-packages (from spacy<3.7.0,>=3.6.0->en-core-web-sm==3.6.0) (3.1.2)\n",
      "Requirement already satisfied: setuptools in /Library/Developer/CommandLineTools/Library/Frameworks/Python3.framework/Versions/3.9/lib/python3.9/site-packages (from spacy<3.7.0,>=3.6.0->en-core-web-sm==3.6.0) (58.0.4)\n",
      "Requirement already satisfied: packaging>=20.0 in /Users/au643202/Library/Python/3.9/lib/python/site-packages (from spacy<3.7.0,>=3.6.0->en-core-web-sm==3.6.0) (23.1)\n",
      "Requirement already satisfied: langcodes<4.0.0,>=3.2.0 in /Users/au643202/Library/Python/3.9/lib/python/site-packages (from spacy<3.7.0,>=3.6.0->en-core-web-sm==3.6.0) (3.3.0)\n",
      "Requirement already satisfied: annotated-types>=0.4.0 in /Users/au643202/Library/Python/3.9/lib/python/site-packages (from pydantic!=1.8,!=1.8.1,<3.0.0,>=1.7.4->spacy<3.7.0,>=3.6.0->en-core-web-sm==3.6.0) (0.5.0)\n",
      "Requirement already satisfied: pydantic-core==2.6.1 in /Users/au643202/Library/Python/3.9/lib/python/site-packages (from pydantic!=1.8,!=1.8.1,<3.0.0,>=1.7.4->spacy<3.7.0,>=3.6.0->en-core-web-sm==3.6.0) (2.6.1)\n",
      "Requirement already satisfied: typing-extensions>=4.6.1 in /Users/au643202/Library/Python/3.9/lib/python/site-packages (from pydantic!=1.8,!=1.8.1,<3.0.0,>=1.7.4->spacy<3.7.0,>=3.6.0->en-core-web-sm==3.6.0) (4.8.0)\n",
      "Requirement already satisfied: charset-normalizer<4,>=2 in /Users/au643202/Library/Python/3.9/lib/python/site-packages (from requests<3.0.0,>=2.13.0->spacy<3.7.0,>=3.6.0->en-core-web-sm==3.6.0) (3.2.0)\n",
      "Requirement already satisfied: idna<4,>=2.5 in /Users/au643202/Library/Python/3.9/lib/python/site-packages (from requests<3.0.0,>=2.13.0->spacy<3.7.0,>=3.6.0->en-core-web-sm==3.6.0) (3.4)\n",
      "Requirement already satisfied: urllib3<3,>=1.21.1 in /Users/au643202/Library/Python/3.9/lib/python/site-packages (from requests<3.0.0,>=2.13.0->spacy<3.7.0,>=3.6.0->en-core-web-sm==3.6.0) (1.26.16)\n",
      "Requirement already satisfied: certifi>=2017.4.17 in /Users/au643202/Library/Python/3.9/lib/python/site-packages (from requests<3.0.0,>=2.13.0->spacy<3.7.0,>=3.6.0->en-core-web-sm==3.6.0) (2023.7.22)\n",
      "Requirement already satisfied: blis<0.8.0,>=0.7.8 in /Users/au643202/Library/Python/3.9/lib/python/site-packages (from thinc<8.2.0,>=8.1.8->spacy<3.7.0,>=3.6.0->en-core-web-sm==3.6.0) (0.7.11)\n",
      "Requirement already satisfied: confection<1.0.0,>=0.0.1 in /Users/au643202/Library/Python/3.9/lib/python/site-packages (from thinc<8.2.0,>=8.1.8->spacy<3.7.0,>=3.6.0->en-core-web-sm==3.6.0) (0.1.1)\n",
      "Requirement already satisfied: click<9.0.0,>=7.1.1 in /Users/au643202/Library/Python/3.9/lib/python/site-packages (from typer<0.10.0,>=0.3.0->spacy<3.7.0,>=3.6.0->en-core-web-sm==3.6.0) (8.1.6)\n",
      "Requirement already satisfied: MarkupSafe>=2.0 in /Users/au643202/Library/Python/3.9/lib/python/site-packages (from jinja2->spacy<3.7.0,>=3.6.0->en-core-web-sm==3.6.0) (2.1.3)\n",
      "\u001b[38;5;2m✔ Download and installation successful\u001b[0m\n",
      "You can now load the package via spacy.load('en_core_web_sm')\n"
     ]
    }
   ],
   "source": [
    "# ENGLISH\n",
    "!python3 -m spacy download en_core_web_sm\n",
    "\n",
    "nlp = spacy.load(\"en_core_web_sm\")"
   ]
  },
  {
   "cell_type": "code",
   "execution_count": null,
   "metadata": {},
   "outputs": [],
   "source": [
    "# DANISH\n",
    "!python3 -m spacy download da_core_news_sm\n",
    "\n",
    "nlp = spacy.load(\"da_core_news_sm\")"
   ]
  },
  {
   "cell_type": "code",
   "execution_count": 6,
   "metadata": {},
   "outputs": [
    {
     "name": "stderr",
     "output_type": "stream",
     "text": [
      "[nltk_data] Downloading package punkt to /Users/au643202/nltk_data...\n",
      "[nltk_data]   Package punkt is already up-to-date!\n"
     ]
    },
    {
     "data": {
      "text/plain": [
       "True"
      ]
     },
     "execution_count": 6,
     "metadata": {},
     "output_type": "execute_result"
    }
   ],
   "source": [
    "nlp.max_length = 3500000\n",
    "\n",
    "nltk.download(\"punkt\")\n"
   ]
  },
  {
   "attachments": {},
   "cell_type": "markdown",
   "metadata": {},
   "source": [
    "### Getting features"
   ]
  },
  {
   "cell_type": "code",
   "execution_count": 25,
   "metadata": {},
   "outputs": [],
   "source": [
    "# first check that the in_dir actually has texts \n",
    "filelist = list(Path(in_dir).glob(\"*.txt\"))\n",
    "\n",
    "if filelist == []:\n",
    "        raise ValueError(\n",
    "            \"The folder specified as --in_dir containes no .txt files. Check the path is correct\"\n",
    "        )\n",
    "\n",
    "# also, ensure that out_dir exists\n",
    "Path(out_dir).mkdir(exist_ok=True)"
   ]
  },
  {
   "cell_type": "code",
   "execution_count": 14,
   "metadata": {},
   "outputs": [],
   "source": [
    "master_dict = {}"
   ]
  },
  {
   "cell_type": "code",
   "execution_count": 26,
   "metadata": {},
   "outputs": [
    {
     "name": "stderr",
     "output_type": "stream",
     "text": [
      " 50%|█████     | 1/2 [00:13<00:13, 13.66s/it]"
     ]
    },
    {
     "name": "stdout",
     "output_type": "stream",
     "text": [
      "\n",
      "00022345.txt\n",
      "text not long enough for stylometrics\n",
      "\n"
     ]
    },
    {
     "name": "stderr",
     "output_type": "stream",
     "text": [
      "100%|██████████| 2/2 [00:15<00:00,  7.80s/it]\n"
     ]
    }
   ],
   "source": [
    "for filename in tqdm(filelist, total=len(filelist)):\n",
    "    temp = {}\n",
    "    # extract text and tokenize\n",
    "    text = extract_text(filename)\n",
    "    sents = sent_tokenize(text, language=language)\n",
    "    words = word_tokenize(text, language=language)\n",
    "\n",
    "    # get spacy attributes\n",
    "    spacy_attributes = []\n",
    "    for token in nlp(text):\n",
    "        token_attributes = get_spacy_attributes(token)\n",
    "        spacy_attributes.append(token_attributes)\n",
    "\n",
    "    spacy_df = create_spacy_df(spacy_attributes)\n",
    "\n",
    "    save_spacy_df(spacy_df, filename, out_dir)\n",
    "\n",
    "    # stylometrics\n",
    "    # for words\n",
    "    temp[\"word_count\"] = len(words)\n",
    "    temp[\"average_wordlen\"] = avg_wordlen(words)\n",
    "    temp[\"msttr\"] = ld.msttr(words, window_length=100)\n",
    "\n",
    "    # for sentences\n",
    "    if len(sents) < 1502:\n",
    "        print(f\"\\n{filename.name}\")\n",
    "        print(\"text not long enough for stylometrics\\n\")\n",
    "        pass\n",
    "    else:\n",
    "        temp[\"average_sentlen\"] = avg_sentlen(sents)\n",
    "        temp[\"gzipr\"], temp[\"bzipr\"] = compressrat(sents)\n",
    "\n",
    "    # bigram and word entropy\n",
    "    try:\n",
    "        temp[\"bigram_entropy\"], temp[\"word_entropy\"] = text_entropy(\n",
    "            text, language=language, base=2, asprob=False\n",
    "        )\n",
    "    except:\n",
    "        print(f\"\\n{filename.name}\")\n",
    "        print(\"error in bigram and/or word entropy\\n\")\n",
    "        pass\n",
    "\n",
    "    arc = get_sentarc(sents, sent_method=sentiment_method, lang=language)\n",
    "\n",
    "    # basic sentiment features\n",
    "    if len(arc) < 60:\n",
    "        print(f\"\\n{filename.name}\")\n",
    "        print(\"arc not long enough for basic sentiment features\\n\")\n",
    "        pass\n",
    "    else:\n",
    "        (\n",
    "            temp[\"mean_sentiment\"],\n",
    "            temp[\"std_sentiment\"],\n",
    "            temp[\"mean_sentiment_per_segment\"],\n",
    "            temp[\"mean_sentiment_first_ten_percent\"],\n",
    "            temp[\"mean_sentiment_last_ten_percent\"],\n",
    "            temp[\"difference_lastten_therest\"],\n",
    "        ) = get_basic_sentarc_features(arc)\n",
    "\n",
    "    # approximate entropy\n",
    "    try:\n",
    "        temp[\"approximate_entropy\"] = nk.entropy_approximate(\n",
    "            arc, dimension=2, tolerance=\"sd\"\n",
    "        )\n",
    "    except:\n",
    "        print(f\"\\n{filename.name}\")\n",
    "        print(\"error with approximate entropy\\n\")\n",
    "        pass\n",
    "\n",
    "    # hurst\n",
    "    try:\n",
    "        temp[\"hurst\"] = get_hurst(arc)\n",
    "    except:\n",
    "        print(f\"\\n{filename.name}\")\n",
    "        print(\"error with hurst\\n\")\n",
    "        pass\n",
    "\n",
    "    # doing the things that only work in English\n",
    "    if language == \"english\":\n",
    "        # readability\n",
    "        try:\n",
    "            (\n",
    "                temp[\"flesch_grade\"],\n",
    "                temp[\"flesch_ease\"],\n",
    "                temp[\"smog\"],\n",
    "                temp[\"ari\"],\n",
    "                temp[\"dale_chall_new\"],\n",
    "            ) = text_readability(text)\n",
    "\n",
    "        except:\n",
    "            print(f\"\\n{filename.name}\")\n",
    "            print(\"error in readability\\n\")\n",
    "            pass\n",
    "\n",
    "        # roget\n",
    "        all_roget_categories = roget.list_all_categories()\n",
    "\n",
    "        roget_df = filter_spacy_df(spacy_df)\n",
    "\n",
    "        temp[\"roget_n_tokens\"] = len(spacy_df)\n",
    "        temp[\"roget_n_tokens_filtered\"] = len(roget_df)\n",
    "\n",
    "        token_categories = get_token_categories(roget_df)\n",
    "        doc_categories = re.findall(r\"(rog\\d{3} \\w*)\", token_categories)\n",
    "\n",
    "        for roget_cat in all_roget_categories:\n",
    "            temp[roget_cat] = doc_categories.count(roget_cat)\n",
    "\n",
    "        temp[\"roget_n_cats\"] = len(doc_categories)\n",
    "\n",
    "        # save arc\n",
    "    temp[\"arc\"] = arc\n",
    "\n",
    "    # saving it all\n",
    "    master_dict[filename.stem] = temp\n",
    "\n",
    "\n"
   ]
  },
  {
   "cell_type": "code",
   "execution_count": 21,
   "metadata": {},
   "outputs": [],
   "source": [
    "# save the thing\n",
    "with open(Path(out_dir).joinpath(\"books_features.json\"), \"w\") as f:\n",
    "        json.dump(master_dict, f)"
   ]
  },
  {
   "cell_type": "code",
   "execution_count": null,
   "metadata": {},
   "outputs": [],
   "source": []
  }
 ],
 "metadata": {
  "kernelspec": {
   "display_name": "Python 3",
   "language": "python",
   "name": "python3"
  },
  "language_info": {
   "codemirror_mode": {
    "name": "ipython",
    "version": 3
   },
   "file_extension": ".py",
   "mimetype": "text/x-python",
   "name": "python",
   "nbconvert_exporter": "python",
   "pygments_lexer": "ipython3",
   "version": "3.9.6"
  }
 },
 "nbformat": 4,
 "nbformat_minor": 2
}
