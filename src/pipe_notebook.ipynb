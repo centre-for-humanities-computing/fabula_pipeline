{
 "cells": [
  {
   "cell_type": "code",
   "execution_count": 2,
   "metadata": {},
   "outputs": [
    {
     "name": "stdout",
     "output_type": "stream",
     "text": [
      "Defaulting to user installation because normal site-packages is not writeable\n",
      "Collecting afinn>=0.1 (from -r ../requirements.txt (line 1))\n",
      "  Using cached afinn-0.1.tar.gz (52 kB)\n",
      "  Preparing metadata (setup.py) ... \u001b[?25ldone\n",
      "\u001b[?25hCollecting dframcy>=0.1.6 (from -r ../requirements.txt (line 2))\n",
      "  Using cached dframcy-0.1.6-py3-none-any.whl (13 kB)\n",
      "Collecting lexical_diversity>=0.1.1 (from -r ../requirements.txt (line 3))\n",
      "  Using cached lexical_diversity-0.1.1-py3-none-any.whl (117 kB)\n",
      "Collecting neurokit2>=0.2.5 (from -r ../requirements.txt (line 4))\n",
      "  Using cached neurokit2-0.2.7-py2.py3-none-any.whl.metadata (37 kB)\n",
      "Collecting nltk>=3.8.1 (from -r ../requirements.txt (line 5))\n",
      "  Using cached nltk-3.8.1-py3-none-any.whl (1.5 MB)\n",
      "Requirement already satisfied: numpy>=1.25.2 in /home/ucloud/.local/lib/python3.10/site-packages (from -r ../requirements.txt (line 6)) (1.26.2)\n",
      "Requirement already satisfied: openpyxl>=3.1.2 in /home/ucloud/.local/lib/python3.10/site-packages (from -r ../requirements.txt (line 7)) (3.1.2)\n",
      "Requirement already satisfied: requests>=2.31.0 in /home/ucloud/.local/lib/python3.10/site-packages (from -r ../requirements.txt (line 8)) (2.31.0)\n",
      "Collecting rpy2>=3.5.14 (from -r ../requirements.txt (line 9))\n",
      "  Using cached rpy2-3.5.14.tar.gz (219 kB)\n",
      "  Installing build dependencies ... \u001b[?25ldone\n",
      "\u001b[?25h  Getting requirements to build wheel ... \u001b[?25lerror\n",
      "  \u001b[1;31merror\u001b[0m: \u001b[1msubprocess-exited-with-error\u001b[0m\n",
      "  \n",
      "  \u001b[31m×\u001b[0m \u001b[32mGetting requirements to build wheel\u001b[0m did not run successfully.\n",
      "  \u001b[31m│\u001b[0m exit code: \u001b[1;36m1\u001b[0m\n",
      "  \u001b[31m╰─>\u001b[0m \u001b[31m[6 lines of output]\u001b[0m\n",
      "  \u001b[31m   \u001b[0m Unable to determine R home: [Errno 2] No such file or directory: 'R'\n",
      "  \u001b[31m   \u001b[0m cffi mode is CFFI_MODE.ANY\n",
      "  \u001b[31m   \u001b[0m Looking for R home with: R RHOME\n",
      "  \u001b[31m   \u001b[0m Unable to determine R home: [Errno 2] No such file or directory: 'R'\n",
      "  \u001b[31m   \u001b[0m R home found: None\n",
      "  \u001b[31m   \u001b[0m Error: rpy2 in API mode cannot be built without R in the PATH or R_HOME defined. Correct this or force ABI mode-only by defining the environment variable RPY2_CFFI_MODE=ABI\n",
      "  \u001b[31m   \u001b[0m \u001b[31m[end of output]\u001b[0m\n",
      "  \n",
      "  \u001b[1;35mnote\u001b[0m: This error originates from a subprocess, and is likely not a problem with pip.\n",
      "\u001b[?25h\u001b[1;31merror\u001b[0m: \u001b[1msubprocess-exited-with-error\u001b[0m\n",
      "\n",
      "\u001b[31m×\u001b[0m \u001b[32mGetting requirements to build wheel\u001b[0m did not run successfully.\n",
      "\u001b[31m│\u001b[0m exit code: \u001b[1;36m1\u001b[0m\n",
      "\u001b[31m╰─>\u001b[0m See above for output.\n",
      "\n",
      "\u001b[1;35mnote\u001b[0m: This error originates from a subprocess, and is likely not a problem with pip.\n"
     ]
    }
   ],
   "source": [
    "!pip install -r ../requirements.txt"
   ]
  },
  {
   "cell_type": "code",
   "execution_count": null,
   "metadata": {},
   "outputs": [],
   "source": [
    "import json\n",
    "from pathlib import Path\n",
    "\n",
    "from lexical_diversity import lex_div as ld\n",
    "import neurokit2 as nk\n",
    "from nltk.tokenize import sent_tokenize\n",
    "import nltk\n",
    "import spacy\n",
    "\n",
    "from utils import *"
   ]
  }
 ],
 "metadata": {
  "kernelspec": {
   "display_name": "Python 3",
   "language": "python",
   "name": "python3"
  },
  "language_info": {
   "codemirror_mode": {
    "name": "ipython",
    "version": 3
   },
   "file_extension": ".py",
   "mimetype": "text/x-python",
   "name": "python",
   "nbconvert_exporter": "python",
   "pygments_lexer": "ipython3",
   "version": "3.10.12"
  }
 },
 "nbformat": 4,
 "nbformat_minor": 2
}
